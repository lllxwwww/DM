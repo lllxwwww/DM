{
 "cells": [
  {
   "cell_type": "markdown",
   "id": "9f6374cc",
   "metadata": {},
   "source": [
    "1.数据摘要和可视化"
   ]
  },
  {
   "cell_type": "code",
   "execution_count": 18,
   "id": "535ae8c0",
   "metadata": {},
   "outputs": [],
   "source": [
    "import pandas as pd\n",
    "from sklearn.impute import KNNImputer"
   ]
  },
  {
   "cell_type": "code",
   "execution_count": null,
   "id": "5d7bf711",
   "metadata": {},
   "outputs": [],
   "source": [
    "1.1数据摘要"
   ]
  },
  {
   "cell_type": "code",
   "execution_count": 11,
   "id": "76019336",
   "metadata": {
    "scrolled": true
   },
   "outputs": [
    {
     "data": {
      "text/html": [
       "<div>\n",
       "<style scoped>\n",
       "    .dataframe tbody tr th:only-of-type {\n",
       "        vertical-align: middle;\n",
       "    }\n",
       "\n",
       "    .dataframe tbody tr th {\n",
       "        vertical-align: top;\n",
       "    }\n",
       "\n",
       "    .dataframe thead th {\n",
       "        text-align: right;\n",
       "    }\n",
       "</style>\n",
       "<table border=\"1\" class=\"dataframe\">\n",
       "  <thead>\n",
       "    <tr style=\"text-align: right;\">\n",
       "      <th></th>\n",
       "      <th>Unnamed: 0</th>\n",
       "      <th>TWEET</th>\n",
       "      <th>STOCK</th>\n",
       "      <th>DATE</th>\n",
       "      <th>LAST_PRICE</th>\n",
       "      <th>1_DAY_RETURN</th>\n",
       "      <th>2_DAY_RETURN</th>\n",
       "      <th>3_DAY_RETURN</th>\n",
       "      <th>7_DAY_RETURN</th>\n",
       "      <th>PX_VOLUME</th>\n",
       "      <th>VOLATILITY_10D</th>\n",
       "      <th>VOLATILITY_30D</th>\n",
       "      <th>LSTM_POLARITY</th>\n",
       "      <th>TEXTBLOB_POLARITY</th>\n",
       "      <th>MENTION</th>\n",
       "    </tr>\n",
       "  </thead>\n",
       "  <tbody>\n",
       "    <tr>\n",
       "      <th>0</th>\n",
       "      <td>0</td>\n",
       "      <td>RT @robertoglezcano: @amazon  #Patents Show Fl...</td>\n",
       "      <td>NaN</td>\n",
       "      <td>NaN</td>\n",
       "      <td>NaN</td>\n",
       "      <td>NaN</td>\n",
       "      <td>NaN</td>\n",
       "      <td>NaN</td>\n",
       "      <td>NaN</td>\n",
       "      <td>NaN</td>\n",
       "      <td>NaN</td>\n",
       "      <td>NaN</td>\n",
       "      <td>NaN</td>\n",
       "      <td>NaN</td>\n",
       "      <td>NaN</td>\n",
       "    </tr>\n",
       "    <tr>\n",
       "      <th>1</th>\n",
       "      <td>NaN</td>\n",
       "      <td>Amazon</td>\n",
       "      <td>31/01/2017</td>\n",
       "      <td>823.48</td>\n",
       "      <td>0.008379</td>\n",
       "      <td>0.014924</td>\n",
       "      <td>0.014924</td>\n",
       "      <td>-0.001263</td>\n",
       "      <td>3.137196e+06</td>\n",
       "      <td>13.447</td>\n",
       "      <td>16.992</td>\n",
       "      <td>1.000</td>\n",
       "      <td>0.0</td>\n",
       "      <td>NaN</td>\n",
       "      <td>NaN</td>\n",
       "    </tr>\n",
       "    <tr>\n",
       "      <th>2</th>\n",
       "      <td>1</td>\n",
       "      <td>@FAME95FM1 Jamaicans make money with @Payoneer...</td>\n",
       "      <td>PayPal</td>\n",
       "      <td>31/01/2017</td>\n",
       "      <td>39.780000</td>\n",
       "      <td>0.002011</td>\n",
       "      <td>0.012318</td>\n",
       "      <td>0.012318</td>\n",
       "      <td>5.480141e-02</td>\n",
       "      <td>9100057.000</td>\n",
       "      <td>18.769</td>\n",
       "      <td>16.099</td>\n",
       "      <td>-1</td>\n",
       "      <td>0.0</td>\n",
       "      <td>@PayPal</td>\n",
       "    </tr>\n",
       "    <tr>\n",
       "      <th>3</th>\n",
       "      <td>2</td>\n",
       "      <td>@CBSi Jamaicans make money with @Payoneer @Pay...</td>\n",
       "      <td>PayPal</td>\n",
       "      <td>31/01/2017</td>\n",
       "      <td>39.780000</td>\n",
       "      <td>0.002011</td>\n",
       "      <td>0.012318</td>\n",
       "      <td>0.012318</td>\n",
       "      <td>5.480141e-02</td>\n",
       "      <td>9100057.000</td>\n",
       "      <td>18.769</td>\n",
       "      <td>16.099</td>\n",
       "      <td>1</td>\n",
       "      <td>0.0</td>\n",
       "      <td>@PayPal</td>\n",
       "    </tr>\n",
       "    <tr>\n",
       "      <th>4</th>\n",
       "      <td>3</td>\n",
       "      <td>@Hitz92fm Jamaicans make money with @Payoneer ...</td>\n",
       "      <td>PayPal</td>\n",
       "      <td>31/01/2017</td>\n",
       "      <td>39.780000</td>\n",
       "      <td>0.002011</td>\n",
       "      <td>0.012318</td>\n",
       "      <td>0.012318</td>\n",
       "      <td>5.480141e-02</td>\n",
       "      <td>9100057.000</td>\n",
       "      <td>18.769</td>\n",
       "      <td>16.099</td>\n",
       "      <td>-1</td>\n",
       "      <td>0.0</td>\n",
       "      <td>@PayPal</td>\n",
       "    </tr>\n",
       "  </tbody>\n",
       "</table>\n",
       "</div>"
      ],
      "text/plain": [
       "  Unnamed: 0                                              TWEET       STOCK  \\\n",
       "0          0  RT @robertoglezcano: @amazon  #Patents Show Fl...         NaN   \n",
       "1        NaN                                             Amazon  31/01/2017   \n",
       "2          1  @FAME95FM1 Jamaicans make money with @Payoneer...      PayPal   \n",
       "3          2  @CBSi Jamaicans make money with @Payoneer @Pay...      PayPal   \n",
       "4          3  @Hitz92fm Jamaicans make money with @Payoneer ...      PayPal   \n",
       "\n",
       "         DATE  LAST_PRICE  1_DAY_RETURN  2_DAY_RETURN  3_DAY_RETURN  \\\n",
       "0         NaN         NaN           NaN           NaN           NaN   \n",
       "1      823.48    0.008379      0.014924      0.014924     -0.001263   \n",
       "2  31/01/2017   39.780000      0.002011      0.012318      0.012318   \n",
       "3  31/01/2017   39.780000      0.002011      0.012318      0.012318   \n",
       "4  31/01/2017   39.780000      0.002011      0.012318      0.012318   \n",
       "\n",
       "   7_DAY_RETURN    PX_VOLUME  VOLATILITY_10D  VOLATILITY_30D LSTM_POLARITY  \\\n",
       "0           NaN          NaN             NaN             NaN           NaN   \n",
       "1  3.137196e+06       13.447          16.992           1.000           0.0   \n",
       "2  5.480141e-02  9100057.000          18.769          16.099            -1   \n",
       "3  5.480141e-02  9100057.000          18.769          16.099             1   \n",
       "4  5.480141e-02  9100057.000          18.769          16.099            -1   \n",
       "\n",
       "   TEXTBLOB_POLARITY  MENTION  \n",
       "0                NaN      NaN  \n",
       "1                NaN      NaN  \n",
       "2                0.0  @PayPal  \n",
       "3                0.0  @PayPal  \n",
       "4                0.0  @PayPal  "
      ]
     },
     "execution_count": 11,
     "metadata": {},
     "output_type": "execute_result"
    }
   ],
   "source": [
    "df = pd.read_csv('C:/Users/lxw/Downloads/archive/reduced_dataset-release.csv', dtype={'TEXTBLOB_POLARITY': str}, low_memory=False)\n",
    "df['TEXTBLOB_POLARITY'] = pd.to_numeric(df_csv['TEXTBLOB_POLARITY'], errors='coerce')\n",
    "df.head()"
   ]
  },
  {
   "cell_type": "code",
   "execution_count": 12,
   "id": "e3814ab2",
   "metadata": {},
   "outputs": [
    {
     "name": "stdout",
     "output_type": "stream",
     "text": [
      "STOCK\n",
      "Nike       3797\n",
      "79.6       2710\n",
      "Reuters    2482\n",
      "Apple      2238\n",
      "eBay       2063\n",
      "           ... \n",
      "37.52         1\n",
      "1201.26       1\n",
      "413.5         1\n",
      "108.25        1\n",
      "81.86         1\n",
      "Name: count, Length: 2696, dtype: int64\n"
     ]
    }
   ],
   "source": [
    "nominal_attributes = ['STOCK']  # 标称属性列表\n",
    "for attribute in nominal_attributes:\n",
    "    print(df[attribute].value_counts())"
   ]
  },
  {
   "cell_type": "code",
   "execution_count": 13,
   "id": "7a35a174",
   "metadata": {},
   "outputs": [
    {
     "name": "stdout",
     "output_type": "stream",
     "text": [
      "          LAST_PRICE  1_DAY_RETURN  2_DAY_RETURN  3_DAY_RETURN  7_DAY_RETURN  \\\n",
      "count   85176.000000  85176.000000  85176.000000  8.517600e+04  8.517600e+04   \n",
      "mean      229.142895      0.004375      0.007293  5.891352e+06  2.020673e+06   \n",
      "std      3227.736241      0.022527      0.032164  1.103918e+07  6.446903e+06   \n",
      "min        -0.173554     -0.177851     -0.204959 -1.778512e-01 -2.049587e-01   \n",
      "25%        -0.000414     -0.005989     -0.009848  0.000000e+00  3.386809e-02   \n",
      "50%         0.009971      0.001119      0.003162  3.743719e-02  2.051700e+01   \n",
      "75%        49.972500      0.013603      0.022654  7.943443e+06  5.266800e+01   \n",
      "max    165500.000000      0.243639      0.267113  3.081068e+08  1.439475e+08   \n",
      "\n",
      "          PX_VOLUME  VOLATILITY_10D  VOLATILITY_30D  TEXTBLOB_POLARITY  \n",
      "count  8.517600e+04    85171.000000    85165.000000       27073.000000  \n",
      "mean   4.094358e+06       11.883457        7.146620           0.077053  \n",
      "std    1.036332e+07       14.389947       12.050566           0.283183  \n",
      "min    1.000000e+00       -1.000000       -1.000000          -1.000000  \n",
      "25%    1.715200e+01        1.000000        0.000000           0.000000  \n",
      "50%    2.407800e+01        9.482000        0.300000           0.000000  \n",
      "75%    2.628128e+06       20.289000       16.026000           0.150000  \n",
      "max    1.698037e+08      124.137000       74.355000           1.000000  \n",
      "\n",
      "Missing values count:\n",
      "Unnamed: 0            18521\n",
      "TWEET                     3\n",
      "STOCK                 58106\n",
      "DATE                  58106\n",
      "LAST_PRICE            58106\n",
      "1_DAY_RETURN          58106\n",
      "2_DAY_RETURN          58106\n",
      "3_DAY_RETURN          58106\n",
      "7_DAY_RETURN          58106\n",
      "PX_VOLUME             58106\n",
      "VOLATILITY_10D        58111\n",
      "VOLATILITY_30D        58117\n",
      "LSTM_POLARITY         58107\n",
      "TEXTBLOB_POLARITY    116209\n",
      "MENTION              116209\n",
      "dtype: int64\n"
     ]
    }
   ],
   "source": [
    "# 数值属性，给出5数概括及缺失值的个数\n",
    "numeric_attributes = ['LAST_PRICE', '1_DAY_RETURN', '2_DAY_RETURN', '3_DAY_RETURN', '7_DAY_RETURN',\n",
    "                      'PX_VOLUME', 'VOLATILITY_10D', 'VOLATILITY_30D', 'LSTM_POLARITY', 'TEXTBLOB_POLARITY']\n",
    "summary = df[numeric_attributes].describe()\n",
    "missing_values_count = df.isnull().sum()\n",
    "print(summary)\n",
    "print(\"\\nMissing values count:\")\n",
    "print(missing_values_count)"
   ]
  },
  {
   "cell_type": "markdown",
   "id": "130b6c3a",
   "metadata": {},
   "source": [
    "1.2数据可视化"
   ]
  },
  {
   "cell_type": "code",
   "execution_count": 14,
   "id": "8fbd113c",
   "metadata": {},
   "outputs": [
    {
     "data": {
      "image/png": "[encoded data removed]",
      "text/plain": [
       "<Figure size 1000x600 with 1 Axes>"
      ]
     },
     "metadata": {},
     "output_type": "display_data"
    },
    {
     "data": {
      "image/png": "[encoded data removed]",
      "text/plain": [
       "<Figure size 1000x600 with 1 Axes>"
      ]
     },
     "metadata": {},
     "output_type": "display_data"
    }
   ],
   "source": [
    "import matplotlib.pyplot as plt\n",
    "import seaborn as sns\n",
    "\n",
    "# 直方图\n",
    "plt.figure(figsize=(10, 6))\n",
    "sns.histplot(df['LAST_PRICE'], bins=20, kde=True)\n",
    "plt.title('Distribution of Last Price')\n",
    "plt.xlabel('Last Price')\n",
    "plt.ylabel('Frequency')\n",
    "plt.show()\n",
    "\n",
    "# 盒图\n",
    "plt.figure(figsize=(10, 6))\n",
    "sns.boxplot(data=df[['1_DAY_RETURN', '2_DAY_RETURN', '3_DAY_RETURN', '7_DAY_RETURN']])\n",
    "plt.title('Boxplot of Returns')\n",
    "plt.xlabel('Return Period')\n",
    "plt.ylabel('Return Amount')\n",
    "plt.show()\n"
   ]
  },
  {
   "cell_type": "markdown",
   "id": "4d30103d",
   "metadata": {},
   "source": [
    "2.数据缺失处理"
   ]
  },
  {
   "cell_type": "code",
   "execution_count": 61,
   "id": "61ca9156",
   "metadata": {},
   "outputs": [],
   "source": [
    "\n",
    "numeric_attributes = ['LAST_PRICE', '1_DAY_RETURN', '2_DAY_RETURN', '3_DAY_RETURN', '7_DAY_RETURN',\n",
    "                      'PX_VOLUME', 'VOLATILITY_10D', 'VOLATILITY_30D', 'LSTM_POLARITY', 'TEXTBLOB_POLARITY']\n",
    "df[numeric_attributes] = df[numeric_attributes].apply(pd.to_numeric, errors='coerce')\n",
    "\n",
    "\n",
    "# 从相关系数计算中排除非数值列\n",
    "numeric_df = df.select_dtypes(include=['float64', 'int64'])\n",
    "# 1. 将缺失部分剔除\n",
    "# 3. 将缺失部分剔除\n",
    "df_dropna = df.dropna()\n",
    "\n",
    "# 用最高频率值来填补缺失值\n",
    "df_fillna_mode = df.fillna(df.mode().iloc[0])"
   ]
  },
  {
   "cell_type": "code",
   "execution_count": 62,
   "id": "b8433450",
   "metadata": {},
   "outputs": [
    {
     "name": "stdout",
     "output_type": "stream",
     "text": [
      "Column 'Unnamed: 0' contains non-numeric values.\n",
      "Column 'TWEET' contains non-numeric values.\n",
      "Column 'STOCK' contains non-numeric values.\n",
      "Column 'DATE' contains non-numeric values.\n",
      "Column 'MENTION' contains non-numeric values.\n",
      "                   LAST_PRICE  1_DAY_RETURN  2_DAY_RETURN  3_DAY_RETURN  \\\n",
      "LAST_PRICE           1.000000     -0.013310     -0.013472     -0.037885   \n",
      "1_DAY_RETURN        -0.013310      1.000000      0.734714      0.196885   \n",
      "2_DAY_RETURN        -0.013472      0.734714      1.000000      0.269247   \n",
      "3_DAY_RETURN        -0.037885      0.196885      0.269247      1.000000   \n",
      "7_DAY_RETURN        -0.022251     -0.037411     -0.063732     -0.167271   \n",
      "PX_VOLUME            0.016460     -0.021278     -0.026231     -0.210847   \n",
      "VOLATILITY_10D       0.067075     -0.051252     -0.068032     -0.435475   \n",
      "VOLATILITY_30D       0.099773     -0.045195     -0.039004     -0.313782   \n",
      "LSTM_POLARITY        0.017529      0.028633      0.023134      0.028935   \n",
      "TEXTBLOB_POLARITY    0.005013      0.003658      0.020098      0.012558   \n",
      "\n",
      "                   7_DAY_RETURN  PX_VOLUME  VOLATILITY_10D  VOLATILITY_30D  \\\n",
      "LAST_PRICE            -0.022251   0.016460        0.067075        0.099773   \n",
      "1_DAY_RETURN          -0.037411  -0.021278       -0.051252       -0.045195   \n",
      "2_DAY_RETURN          -0.063732  -0.026231       -0.068032       -0.039004   \n",
      "3_DAY_RETURN          -0.167271  -0.210847       -0.435475       -0.313782   \n",
      "7_DAY_RETURN           1.000000  -0.123832        0.178792       -0.184900   \n",
      "PX_VOLUME             -0.123832   1.000000        0.420339        0.515373   \n",
      "VOLATILITY_10D         0.178792   0.420339        1.000000        0.735763   \n",
      "VOLATILITY_30D        -0.184900   0.515373        0.735763        1.000000   \n",
      "LSTM_POLARITY         -0.006713  -0.099942        0.019129        0.050232   \n",
      "TEXTBLOB_POLARITY      0.029731  -0.030101        0.026977        0.036849   \n",
      "\n",
      "                   LSTM_POLARITY  TEXTBLOB_POLARITY  \n",
      "LAST_PRICE              0.017529           0.005013  \n",
      "1_DAY_RETURN            0.028633           0.003658  \n",
      "2_DAY_RETURN            0.023134           0.020098  \n",
      "3_DAY_RETURN            0.028935           0.012558  \n",
      "7_DAY_RETURN           -0.006713           0.029731  \n",
      "PX_VOLUME              -0.099942          -0.030101  \n",
      "VOLATILITY_10D          0.019129           0.026977  \n",
      "VOLATILITY_30D          0.050232           0.036849  \n",
      "LSTM_POLARITY           1.000000           0.181048  \n",
      "TEXTBLOB_POLARITY       0.181048           1.000000  \n"
     ]
    }
   ],
   "source": [
    "for column in df.columns:\n",
    "    if df[column].dtype == 'object':\n",
    "        print(f\"Column '{column}' contains non-numeric values.\")\n",
    "\n",
    "# 从相关系数计算中排除非数值列\n",
    "numeric_df = df.select_dtypes(include=['float64', 'int64'])\n",
    "\n",
    "# 计算属性之间的相关系数\n",
    "correlation_matrix = numeric_df.corr()\n",
    "print(correlation_matrix)"
   ]
  },
  {
   "cell_type": "markdown",
   "id": "b70689b6",
   "metadata": {},
   "source": [
    "通过属性的相关关系来填补缺失值\n",
    "由上述相关系数可知相关关系系数基本很低，因此不做此步骤\n",
    "\n"
   ]
  },
  {
   "cell_type": "code",
   "execution_count": null,
   "id": "cd928972",
   "metadata": {},
   "outputs": [],
   "source": [
    "通过数据对象之间的相似性来填补缺失值"
   ]
  },
  {
   "cell_type": "code",
   "execution_count": 63,
   "id": "d2eb70d7",
   "metadata": {},
   "outputs": [],
   "source": [
    "from sklearn.impute import KNNImputer\n",
    "\n",
    "# 选择所有数值类型的列\n",
    "numeric_columns = df.select_dtypes(include=['float64', 'int64']).columns\n",
    "\n",
    "# 删除字符串列\n",
    "df_numeric = df[numeric_columns]\n",
    "\n",
    "# 创建 KNN 填充器\n",
    "imputer = KNNImputer(n_neighbors=5)\n",
    "\n",
    "# 使用 KNN 填充缺失值\n",
    "df_filled_with_knn = pd.DataFrame(imputer.fit_transform(df_numeric), columns=df_numeric.columns)\n",
    "\n"
   ]
  },
  {
   "cell_type": "code",
   "execution_count": 69,
   "id": "22572186",
   "metadata": {},
   "outputs": [
    {
     "name": "stdout",
     "output_type": "stream",
     "text": [
      "Difference between original and filled data:\n"
     ]
    }
   ],
   "source": [
    "df_diff = df_filled_with_knn - df\n",
    "\n",
    "\n",
    "# 输出差异部分\n",
    "print(\"Difference between original and filled data:\")\n",
    "import numpy as np\n",
    "\n",
    "# 找到不为 NaN 和 0 的地方的索引\n",
    "not_nan_zero_indices = np.where((df_diff != 0) & (~np.isnan(df_diff)))\n",
    "\n",
    "# 输出不为 NaN 和 0 的地方的值及其索引\n",
    "for i in range(len(not_nan_zero_indices[0])):\n",
    "    row_idx = not_nan_zero_indices[0][i]\n",
    "    col_idx = not_nan_zero_indices[1][i]\n",
    "    print(f\"Value at ({row_idx}, {col_idx}): {df_diff.iloc[row_idx, col_idx]}\")\n"
   ]
  }
 ],
 "metadata": {
  "kernelspec": {
   "display_name": "Python 3 (ipykernel)",
   "language": "python",
   "name": "python3"
  },
  "language_info": {
   "codemirror_mode": {
    "name": "ipython",
    "version": 3
   },
   "file_extension": ".py",
   "mimetype": "text/x-python",
   "name": "python",
   "nbconvert_exporter": "python",
   "pygments_lexer": "ipython3",
   "version": "3.11.5"
  }
 },
 "nbformat": 4,
 "nbformat_minor": 5
}
